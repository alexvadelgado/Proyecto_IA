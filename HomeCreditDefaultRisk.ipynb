{
  "nbformat": 4,
  "nbformat_minor": 0,
  "metadata": {
    "colab": {
      "provenance": [],
      "include_colab_link": true
    },
    "kernelspec": {
      "name": "python3",
      "display_name": "Python 3"
    },
    "language_info": {
      "name": "python"
    }
  },
  "cells": [
    {
      "cell_type": "markdown",
      "metadata": {
        "id": "view-in-github",
        "colab_type": "text"
      },
      "source": [
        "<a href=\"https://colab.research.google.com/github/alexvadelgado/Proyecto_IA/blob/main/HomeCreditDefaultRisk.ipynb\" target=\"_parent\"><img src=\"https://colab.research.google.com/assets/colab-badge.svg\" alt=\"Open In Colab\"/></a>"
      ]
    },
    {
      "cell_type": "code",
      "execution_count": null,
      "metadata": {
        "id": "fApeXXCNNHCx"
      },
      "outputs": [],
      "source": [
        "# Importar las bibliotecas necesarias\n",
        "import pandas as pd\n",
        "import numpy as np\n",
        "from sklearn.preprocessing import StandardScaler, LabelEncoder\n",
        "from sklearn.feature_selection import SelectKBest, f_classif\n",
        "from sklearn.impute import SimpleImputer\n",
        "\n",
        "# Cargar los conjuntos de datos\n",
        "application_train = pd.read_csv('application_train.csv')\n",
        "application_test = pd.read_csv('application_test.csv')\n",
        "bureau = pd.read_csv('bureau.csv')\n",
        "bureau_balance = pd.read_csv('bureau_balance.csv')\n",
        "credit_card_balance = pd.read_csv('credit_card_balance.csv')\n",
        "installments_payments = pd.read_csv('installments_payments.csv')\n",
        "POS_CASH_balance = pd.read_csv('POS_CASH_balance.csv')\n",
        "previous_application = pd.read_csv('previous_application.csv')\n",
        "\n",
        "# Limpieza de datos\n",
        "# Eliminar columnas con más del 50% de valores faltantes\n",
        "application_train.dropna(thresh=0.5*len(application_train.columns), axis=1, inplace=True)\n",
        "application_test.dropna(thresh=0.5*len(application_test.columns), axis=1, inplace=True)\n",
        "\n",
        "# Imputar valores faltantes\n",
        "imputer = SimpleImputer(strategy='most_frequent')\n",
        "application_train = pd.DataFrame(imputer.fit_transform(application_train), columns=application_train.columns)\n",
        "application_test = pd.DataFrame(imputer.transform(application_test), columns=application_test.columns)\n",
        "\n",
        "# Eliminar columnas no numéricas\n",
        "application_train = application_train.select_dtypes(include=[np.number])\n",
        "application_test = application_test.select_dtypes(include=[np.number])\n",
        "\n",
        "# Escalado de datos\n",
        "scaler = StandardScaler()\n",
        "application_train_scaled = pd.DataFrame(scaler.fit_transform(application_train), columns=application_train.columns)\n",
        "application_test_scaled = pd.DataFrame(scaler.transform(application_test), columns=application_test.columns)\n",
        "\n",
        "# Codificación de variables categóricas\n",
        "le = LabelEncoder()\n",
        "for col in bureau.select_dtypes(include=['object']).columns:\n",
        "    bureau[col] = le.fit_transform(bureau[col])\n",
        "for col in credit_card_balance.select_dtypes(include=['object']).columns:\n",
        "    credit_card_balance[col] = le.fit_transform(credit_card_balance[col])\n",
        "for col in installments_payments.select_dtypes(include=['object']).columns:\n",
        "    installments_payments[col] = le.fit_transform(installments_payments[col])\n",
        "for col in POS_CASH_balance.select_dtypes(include=['object']).columns:\n",
        "    POS_CASH_balance[col] = le.fit_transform(POS_CASH_balance[col])\n",
        "for col in previous_application.select_dtypes(include=['object']).columns:\n",
        "    previous_application[col] = le.fit_transform(previous_application[col])\n",
        "\n",
        "# Selección de características\n",
        "# Unir los conjuntos de datos relacionados\n",
        "bureau_joined = bureau.merge(bureau_balance, on='SK_ID_BUREAU', how='left')\n",
        "previous_application_joined = previous_application.merge(POS_CASH_balance, on='SK_ID_PREV', how='left')\n",
        "previous_application_joined = previous_application_joined.merge(installments_payments, on='SK_ID_PREV', how='left')\n",
        "previous_application_joined = previous_application_joined.merge(credit_card_balance, on='SK_ID_PREV', how='left')\n",
        "\n",
        "# Unir los conjuntos de datos con el conjunto de datos de solicitud\n",
        "application_train_joined = application_train.merge(bureau_joined, on='SK_ID_CURR', how='left')\n",
        "application_train_joined = application_train_joined.merge(previous_application_joined, on='SK_ID_CURR', how='left')\n",
        "\n",
        "# Realizar selección de características\n",
        "selector = SelectKBest(f_classif, k=100)\n",
        "selector.fit(application_train_joined.drop('TARGET', axis=1), application_train_joined['TARGET'])\n",
        "selected_features = application_train_joined.drop('TARGET', axis=1).columns[selector.get_support()]\n",
        "application_train_selected = application_train_joined[['TARGET'] + list(selected_features)]\n",
        "application_test_selected = application_test_joined[list(selected_features)]"
      ]
    }
  ]
}